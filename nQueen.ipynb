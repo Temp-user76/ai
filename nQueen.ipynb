{
 "cells": [
  {
   "cell_type": "code",
   "execution_count": null,
   "id": "25e0169a-eaef-465c-8f75-baaaebc5a812",
   "metadata": {},
   "outputs": [],
   "source": [
    "global N\n",
    "N = int(input(\"Enter the number of queens: \"))\n",
    "board = [['-' for x in range(N)]for y in range(N)]\n",
    "print(board)\n",
    "def printboard(board):\n",
    "    "
   ]
  },
  {
   "cell_type": "code",
   "execution_count": null,
   "id": "bb84f034-65d2-4cc1-af80-0b59555db59f",
   "metadata": {},
   "outputs": [],
   "source": []
  }
 ],
 "metadata": {
  "kernelspec": {
   "display_name": "Python 3 (ipykernel)",
   "language": "python",
   "name": "python3"
  },
  "language_info": {
   "codemirror_mode": {
    "name": "ipython",
    "version": 3
   },
   "file_extension": ".py",
   "mimetype": "text/x-python",
   "name": "python",
   "nbconvert_exporter": "python",
   "pygments_lexer": "ipython3",
   "version": "3.11.3"
  }
 },
 "nbformat": 4,
 "nbformat_minor": 5
}
