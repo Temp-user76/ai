{
 "cells": [
  {
   "cell_type": "code",
   "execution_count": 7,
   "id": "613fcae7-d6c6-4a87-baff-2c804bc1725b",
   "metadata": {},
   "outputs": [
    {
     "name": "stdout",
     "output_type": "stream",
     "text": [
      "ENTER SOURCE : "
     ]
    },
    {
     "name": "stdin",
     "output_type": "stream",
     "text": [
      " Pune \n"
     ]
    },
    {
     "name": "stdout",
     "output_type": "stream",
     "text": [
      "ENTER GOAL : "
     ]
    },
    {
     "name": "stdin",
     "output_type": "stream",
     "text": [
      " Mumbai\n"
     ]
    },
    {
     "name": "stdout",
     "output_type": "stream",
     "text": [
      "\n",
      "Best First Search PATH:\n",
      "PATH COST = 150\n",
      "Pune -> Mumbai\n"
     ]
    }
   ],
   "source": [
    "GRAPH = {\n",
    "    'Delhi': {'Jaipur': 280, 'Agra': 210, 'Lucknow': 400},\n",
    "    'Agra': {'Delhi': 210, 'Gwalior': 120},\n",
    "    'Gwalior': {'Agra': 120, 'Bhopal': 400},\n",
    "    'Jaipur': {'Delhi': 280, 'Jodhpur': 330, 'Udaipur': 410},\n",
    "    'Lucknow': {'Delhi': 400, 'Kanpur': 80},\n",
    "    'Kanpur': {'Lucknow': 80, 'Allahabad': 190},\n",
    "    'Allahabad': {'Kanpur': 190, 'Varanasi': 120},\n",
    "    'Varanasi': {'Allahabad': 120, 'Patna': 250},\n",
    "    'Patna': {'Varanasi': 250, 'Ranchi': 300, 'Kolkata': 560},\n",
    "    'Ranchi': {'Patna': 300, 'Jamshedpur': 130},\n",
    "    'Jamshedpur': {'Ranchi': 130, 'Kolkata': 280},\n",
    "    'Kolkata': {'Patna': 560, 'Jamshedpur': 280, 'Bhubaneswar': 440},\n",
    "    'Bhubaneswar': {'Kolkata': 440, 'Cuttack': 30, 'Puri': 60},\n",
    "    'Puri': {'Bhubaneswar': 60},\n",
    "    'Cuttack': {'Bhubaneswar': 30},\n",
    "    'Jodhpur': {'Jaipur': 330, 'Udaipur': 250},\n",
    "    'Udaipur': {'Jaipur': 410, 'Jodhpur': 250, 'Ahmedabad': 260},\n",
    "    'Ahmedabad': {'Udaipur': 260, 'Surat': 280},\n",
    "    'Surat': {'Ahmedabad': 280, 'Mumbai': 280},\n",
    "    'Mumbai': {'Surat': 280, 'Pune': 150},\n",
    "    'Pune': {'Mumbai': 150}\n",
    "}\n",
    "\n",
    "def bestfirst(source, destination):\n",
    "    \"\"\"Optimal path from source to destination using straight line distance heuristic\n",
    "\n",
    "    :param source: Source city name\n",
    "    :param destination: Destination city name\n",
    "    :returns: Heuristic value, cost and path for optimal traversal\n",
    "    \"\"\"\n",
    "    # HERE THE STRAIGHT LINE DISTANCE VALUES ARE IN REFERENCE TO KOLKATA AS THE DESTINATION\n",
    "    straight_line = {\n",
    "        'Delhi': 1400, 'Jaipur': 1200, 'Agra': 1300, 'Lucknow': 1100, 'Kanpur': 1050,\n",
    "        'Allahabad': 900, 'Varanasi': 850, 'Patna': 600, 'Gwalior': 1200, 'Bhopal': 1000,\n",
    "        'Ranchi': 500, 'Jamshedpur': 300, 'Kolkata': 0, 'Bhubaneswar': 450, 'Puri': 510,\n",
    "        'Cuttack': 440, 'Jodhpur': 1400, 'Udaipur': 1300, 'Ahmedabad': 1200, 'Surat': 1250,\n",
    "        'Mumbai': 1600, 'Pune': 1550\n",
    "    }\n",
    "    \n",
    "    from queue import PriorityQueue\n",
    "    priority_queue, visited = PriorityQueue(), {}\n",
    "    priority_queue.put((straight_line[source], 0, source, [source]))\n",
    "    visited[source] = straight_line[source]\n",
    "    \n",
    "    while not priority_queue.empty():\n",
    "        (heuristic, cost, vertex, path) = priority_queue.get()\n",
    "        if vertex == destination:\n",
    "            return heuristic, cost, path\n",
    "        for next_node in GRAPH[vertex].keys():\n",
    "            current_cost = cost + GRAPH[vertex][next_node]\n",
    "            heuristic = straight_line[next_node]\n",
    "            if not next_node in visited or visited[next_node] >= heuristic:\n",
    "                visited[next_node] = heuristic\n",
    "                priority_queue.put((heuristic, current_cost, next_node, path + [next_node]))\n",
    "\n",
    "def main():\n",
    "    \"\"\"Main function\"\"\"\n",
    "    print('ENTER SOURCE :', end=' ')\n",
    "    source = input().strip()\n",
    "    print('ENTER GOAL :', end=' ')\n",
    "    goal = input().strip()\n",
    "    if source not in GRAPH or goal not in GRAPH:\n",
    "        print('ERROR: CITY DOES NOT EXIST.')\n",
    "    else:\n",
    "        print('\\nBest First Search PATH:')\n",
    "        heuristic, cost, optimal_path = bestfirst(source, goal)\n",
    "        print('PATH COST =', cost)\n",
    "        print(' -> '.join(city for city in optimal_path))\n",
    "     \n",
    "if __name__ == '__main__':\n",
    "    main()\n"
   ]
  },
  {
   "cell_type": "code",
   "execution_count": null,
   "id": "6c252e14-79c1-438c-86f3-3dbcec990053",
   "metadata": {},
   "outputs": [],
   "source": []
  }
 ],
 "metadata": {
  "kernelspec": {
   "display_name": "Python 3 (ipykernel)",
   "language": "python",
   "name": "python3"
  },
  "language_info": {
   "codemirror_mode": {
    "name": "ipython",
    "version": 3
   },
   "file_extension": ".py",
   "mimetype": "text/x-python",
   "name": "python",
   "nbconvert_exporter": "python",
   "pygments_lexer": "ipython3",
   "version": "3.11.3"
  }
 },
 "nbformat": 4,
 "nbformat_minor": 5
}
