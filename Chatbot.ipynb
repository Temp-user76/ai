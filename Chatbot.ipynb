{
 "cells": [
  {
   "cell_type": "code",
   "execution_count": 5,
   "id": "d4c679b5-6555-413b-aab8-560129b62a3c",
   "metadata": {},
   "outputs": [],
   "source": [
    "import pandas as pd"
   ]
  },
  {
   "cell_type": "code",
   "execution_count": 6,
   "id": "7f8725f2-836e-4d3c-a57d-ae7c332476a3",
   "metadata": {
    "scrolled": true
   },
   "outputs": [
    {
     "data": {
      "text/html": [
       "<div>\n",
       "<style scoped>\n",
       "    .dataframe tbody tr th:only-of-type {\n",
       "        vertical-align: middle;\n",
       "    }\n",
       "\n",
       "    .dataframe tbody tr th {\n",
       "        vertical-align: top;\n",
       "    }\n",
       "\n",
       "    .dataframe thead th {\n",
       "        text-align: right;\n",
       "    }\n",
       "</style>\n",
       "<table border=\"1\" class=\"dataframe\">\n",
       "  <thead>\n",
       "    <tr style=\"text-align: right;\">\n",
       "      <th></th>\n",
       "      <th>College Name</th>\n",
       "      <th>Address</th>\n",
       "      <th>Courses Offered</th>\n",
       "      <th>Fees (Approx.)</th>\n",
       "      <th>Eligibility</th>\n",
       "      <th>Contact Details</th>\n",
       "    </tr>\n",
       "  </thead>\n",
       "  <tbody>\n",
       "    <tr>\n",
       "      <th>0</th>\n",
       "      <td>College of Engineering Pune (COEP)</td>\n",
       "      <td>Shivajinagar</td>\n",
       "      <td>Computer Engineering, Mechanical Engineering, ...</td>\n",
       "      <td>₹200</td>\n",
       "      <td>12th Grade with Physics, Math (50% min)</td>\n",
       "      <td>-25506929</td>\n",
       "    </tr>\n",
       "    <tr>\n",
       "      <th>1</th>\n",
       "      <td>MIT World Peace University</td>\n",
       "      <td>Kothrud</td>\n",
       "      <td>Computer Science, Civil, Mechanical, E&amp;TC</td>\n",
       "      <td>₹250</td>\n",
       "      <td>12th Grade with PCM,JEE/MHT-CET score</td>\n",
       "      <td>-71177033</td>\n",
       "    </tr>\n",
       "    <tr>\n",
       "      <th>2</th>\n",
       "      <td>Vishwakarma Institute of Technology</td>\n",
       "      <td>Bibwewadi</td>\n",
       "      <td>Information Technology, Electronics, Civil</td>\n",
       "      <td>₹220</td>\n",
       "      <td>12th Grade with 50% in PCM,JEE/MHT-CET score</td>\n",
       "      <td>-24202109</td>\n",
       "    </tr>\n",
       "    <tr>\n",
       "      <th>3</th>\n",
       "      <td>Pune Institute of Computer Technology (PICT)</td>\n",
       "      <td>Dhankawadi</td>\n",
       "      <td>Computer Engineering, IT, E&amp;TC</td>\n",
       "      <td>₹180</td>\n",
       "      <td>12th Grade with 50% in PCM</td>\n",
       "      <td>-24371967</td>\n",
       "    </tr>\n",
       "    <tr>\n",
       "      <th>4</th>\n",
       "      <td>Bharati Vidyapeeth Deemed University College o...</td>\n",
       "      <td>Katraj</td>\n",
       "      <td>Mechanical, ECE, CSE, Civil</td>\n",
       "      <td>₹300</td>\n",
       "      <td>12th Grade with PCM,JEE/MHT-CET score</td>\n",
       "      <td>-24107319</td>\n",
       "    </tr>\n",
       "  </tbody>\n",
       "</table>\n",
       "</div>"
      ],
      "text/plain": [
       "                                        College Name       Address  \\\n",
       "0                 College of Engineering Pune (COEP)  Shivajinagar   \n",
       "1                         MIT World Peace University       Kothrud   \n",
       "2                Vishwakarma Institute of Technology     Bibwewadi   \n",
       "3       Pune Institute of Computer Technology (PICT)    Dhankawadi   \n",
       "4  Bharati Vidyapeeth Deemed University College o...        Katraj   \n",
       "\n",
       "                                     Courses Offered Fees (Approx.)  \\\n",
       "0  Computer Engineering, Mechanical Engineering, ...           ₹200   \n",
       "1          Computer Science, Civil, Mechanical, E&TC           ₹250   \n",
       "2         Information Technology, Electronics, Civil           ₹220   \n",
       "3                     Computer Engineering, IT, E&TC           ₹180   \n",
       "4                        Mechanical, ECE, CSE, Civil           ₹300   \n",
       "\n",
       "                                    Eligibility  Contact Details  \n",
       "0       12th Grade with Physics, Math (50% min)        -25506929  \n",
       "1         12th Grade with PCM,JEE/MHT-CET score        -71177033  \n",
       "2  12th Grade with 50% in PCM,JEE/MHT-CET score        -24202109  \n",
       "3                    12th Grade with 50% in PCM        -24371967  \n",
       "4         12th Grade with PCM,JEE/MHT-CET score        -24107319  "
      ]
     },
     "execution_count": 6,
     "metadata": {},
     "output_type": "execute_result"
    }
   ],
   "source": [
    "data = pd.read_csv(\"C:\\\\Users\\\\nitin\\\\Downloads\\\\engineering_colleges_pune.csv\")\n",
    "data"
   ]
  },
  {
   "cell_type": "code",
   "execution_count": 8,
   "id": "16a7ac30-0951-4ba3-b1b1-0900c5af9ba2",
   "metadata": {
    "scrolled": true
   },
   "outputs": [
    {
     "name": "stdout",
     "output_type": "stream",
     "text": [
      "Hello! Welcome to the College Info Chatbot.\n",
      "Here are some colleges you can choose from:\n",
      "1. College of Engineering Pune (COEP)\n",
      "2. MIT World Peace University\n",
      "3. Vishwakarma Institute of Technology\n",
      "4. Pune Institute of Computer Technology (PICT)\n",
      "5. Bharati Vidyapeeth Deemed University College of Engineering\n",
      "\n",
      "Please select a college by number:\n"
     ]
    },
    {
     "name": "stdin",
     "output_type": "stream",
     "text": [
      "Enter the number of the college you are interested in:  1\n"
     ]
    },
    {
     "name": "stdout",
     "output_type": "stream",
     "text": [
      "\n",
      "You selected: College of Engineering Pune (COEP)\n",
      "\n"
     ]
    },
    {
     "name": "stdin",
     "output_type": "stream",
     "text": [
      "What would you like to know? (options: fees, courses, eligibility, contact, or type 'exit' to choose another college):  eligibility\n"
     ]
    },
    {
     "name": "stdout",
     "output_type": "stream",
     "text": [
      "The eligibility criteria for College of Engineering Pune (COEP) are: 12th Grade with Physics, Math (50% min).\n"
     ]
    },
    {
     "name": "stdin",
     "output_type": "stream",
     "text": [
      "What would you like to know? (options: fees, courses, eligibility, contact, or type 'exit' to choose another college):  exit\n",
      "Would you like to ask about another college? (yes/no):  no\n"
     ]
    },
    {
     "name": "stdout",
     "output_type": "stream",
     "text": [
      "Thank you for using the College Info Chatbot! Goodbye.\n"
     ]
    }
   ],
   "source": [
    "def show_college_list():\n",
    "    print(\"Here are some colleges you can choose from:\")\n",
    "    for i, college in enumerate(data['College Name']):\n",
    "        print(f\"{i + 1}. {college}\")\n",
    "    print(\"\\nPlease select a college by number:\")\n",
    "\n",
    "def get_college_info_by_index(index):\n",
    "    college = data.iloc[index]\n",
    "    return college\n",
    "\n",
    "def chatbot():\n",
    "    print(\"Hello! Welcome to the College Info Chatbot.\")\n",
    "    \n",
    "    \n",
    "    while True:\n",
    "        \n",
    "        show_college_list()\n",
    "      \n",
    "        try:\n",
    "            choice = int(input(\"Enter the number of the college you are interested in: \")) - 1\n",
    "            if choice < 0 or choice >= len(data):\n",
    "                print(\"Invalid selection. Please try again.\")\n",
    "                continue\n",
    "        except ValueError:\n",
    "            print(\"Please enter a valid number.\")\n",
    "            continue\n",
    "     \n",
    "        selected_college = get_college_info_by_index(choice)\n",
    "        print(f\"\\nYou selected: {selected_college['College Name']}\\n\")\n",
    "\n",
    "       \n",
    "        while True:\n",
    "            user_query = input(\"What would you like to know? (options: fees, courses, eligibility, contact, or type 'exit' to choose another college): \").lower()\n",
    "            \n",
    "            if user_query == \"fees\":\n",
    "                print(f\"The fees for {selected_college['College Name']} are approximately {selected_college['Fees (Approx.)']} per year.\")\n",
    "            elif user_query == \"courses\":\n",
    "                print(f\"{selected_college['College Name']} offers the following courses: {selected_college['Courses Offered']}.\")\n",
    "            elif user_query == \"eligibility\":\n",
    "                print(f\"The eligibility criteria for {selected_college['College Name']} are: {selected_college['Eligibility']}.\")\n",
    "            elif user_query == \"contact\":\n",
    "                print(f\"You can contact {selected_college['College Name']} at: {selected_college['Contact Details']}.\")\n",
    "            elif user_query == \"exit\":\n",
    "                break\n",
    "            else:\n",
    "                print(\"Sorry, I didn't understand that. Please ask about fees, courses, eligibility, contact, or type 'exit' to choose another college.\")\n",
    "\n",
    "      \n",
    "        continue_chat = input(\"Would you like to ask about another college? (yes/no): \").lower()\n",
    "        if continue_chat != \"yes\":\n",
    "            print(\"Thank you for using the College Info Chatbot! Goodbye.\")\n",
    "            break\n",
    "\n",
    "\n",
    "chatbot()"
   ]
  },
  {
   "cell_type": "code",
   "execution_count": null,
   "id": "d20ab0f9-4dfc-4230-9a57-9d9a9e86c686",
   "metadata": {},
   "outputs": [],
   "source": []
  },
  {
   "cell_type": "code",
   "execution_count": null,
   "id": "ffaba318-69ed-4771-95bd-9b0d95563dc7",
   "metadata": {},
   "outputs": [],
   "source": []
  }
 ],
 "metadata": {
  "kernelspec": {
   "display_name": "Python 3 (ipykernel)",
   "language": "python",
   "name": "python3"
  },
  "language_info": {
   "codemirror_mode": {
    "name": "ipython",
    "version": 3
   },
   "file_extension": ".py",
   "mimetype": "text/x-python",
   "name": "python",
   "nbconvert_exporter": "python",
   "pygments_lexer": "ipython3",
   "version": "3.11.3"
  }
 },
 "nbformat": 4,
 "nbformat_minor": 5
}
