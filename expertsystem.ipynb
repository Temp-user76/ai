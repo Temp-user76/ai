{
 "cells": [
  {
   "cell_type": "code",
   "execution_count": 1,
   "id": "84fc9b99-0d79-42c7-9afe-4c6686127c3b",
   "metadata": {},
   "outputs": [
    {
     "name": "stdout",
     "output_type": "stream",
     "text": [
      "Please enter your symptoms (type 'done' when finished):\n"
     ]
    },
    {
     "name": "stdin",
     "output_type": "stream",
     "text": [
      "Enter symptom:  fever\n",
      "Enter symptom:  cough\n",
      "Enter symptom:  done\n"
     ]
    },
    {
     "name": "stdout",
     "output_type": "stream",
     "text": [
      "\n",
      "Potential Diagnoses (with matching symptoms):\n",
      "\n",
      "Disease: Flu\n",
      "Match: 33.33%\n",
      "Matching symptoms: fever, cough\n",
      "\n",
      "Disease: Covid-19\n",
      "Match: 33.33%\n",
      "Matching symptoms: fever, cough\n",
      "\n",
      "Disease: Cold\n",
      "Match: 20.00%\n",
      "Matching symptoms: cough\n"
     ]
    }
   ],
   "source": [
    "class MedicalExpertSystem:\n",
    "    def __init__(self):\n",
    "        self.symptoms = []\n",
    "        self.diagnosis_rules = {\n",
    "            'cold': ['cough', 'sore throat', 'runny nose', 'congestion', 'sneezing'],\n",
    "            'flu': ['fever', 'chills', 'muscle aches', 'fatigue', 'sore throat', 'cough'],\n",
    "            'covid-19': ['fever', 'cough', 'shortness of breath', 'fatigue', 'loss of taste', 'loss of smell'],\n",
    "            'allergy': ['sneezing', 'itchy eyes', 'runny nose', 'congestion'],\n",
    "            'migraine': ['headache', 'nausea', 'sensitivity to light', 'blurred vision'],\n",
    "            'diabetes': ['frequent urination', 'excessive thirst', 'extreme fatigue', 'blurry vision', 'weight loss']\n",
    "        }\n",
    "\n",
    "    def get_symptoms(self):\n",
    "        print(\"Please enter your symptoms (type 'done' when finished):\")\n",
    "        while True:\n",
    "            symptom = input(\"Enter symptom: \").strip().lower()\n",
    "            if symptom == 'done':\n",
    "                break\n",
    "            self.symptoms.append(symptom)\n",
    "\n",
    "    def diagnose(self):\n",
    "        potential_diagnosis = []\n",
    "        for disease, disease_symptoms in self.diagnosis_rules.items():\n",
    "            matching_symptoms = set(self.symptoms).intersection(set(disease_symptoms))\n",
    "            match_percentage = (len(matching_symptoms) / len(disease_symptoms)) * 100\n",
    "\n",
    "            if match_percentage > 0:\n",
    "                potential_diagnosis.append((disease, match_percentage, matching_symptoms))\n",
    "\n",
    "        if potential_diagnosis:\n",
    "            # Sort potential diagnoses by the match percentage\n",
    "            potential_diagnosis.sort(key=lambda x: x[1], reverse=True)\n",
    "            print(\"\\nPotential Diagnoses (with matching symptoms):\")\n",
    "            for diagnosis, percentage, symptoms in potential_diagnosis:\n",
    "                print(f\"\\nDisease: {diagnosis.capitalize()}\")\n",
    "                print(f\"Match: {percentage:.2f}%\")\n",
    "                print(f\"Matching symptoms: {', '.join(symptoms)}\")\n",
    "        else:\n",
    "            print(\"No potential diagnosis found. Please consult a doctor.\")\n",
    "\n",
    "def main():\n",
    "    system = MedicalExpertSystem()\n",
    "    system.get_symptoms()\n",
    "    system.diagnose()\n",
    "\n",
    "if __name__ == \"__main__\":\n",
    "    main()\n"
   ]
  },
  {
   "cell_type": "code",
   "execution_count": null,
   "id": "90d6490f-4bee-4ea7-a554-59cfd100e060",
   "metadata": {},
   "outputs": [],
   "source": []
  }
 ],
 "metadata": {
  "kernelspec": {
   "display_name": "Python 3 (ipykernel)",
   "language": "python",
   "name": "python3"
  },
  "language_info": {
   "codemirror_mode": {
    "name": "ipython",
    "version": 3
   },
   "file_extension": ".py",
   "mimetype": "text/x-python",
   "name": "python",
   "nbconvert_exporter": "python",
   "pygments_lexer": "ipython3",
   "version": "3.11.3"
  }
 },
 "nbformat": 4,
 "nbformat_minor": 5
}
